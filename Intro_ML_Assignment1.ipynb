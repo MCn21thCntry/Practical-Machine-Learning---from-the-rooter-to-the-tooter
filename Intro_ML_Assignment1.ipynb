{
  "nbformat": 4,
  "nbformat_minor": 0,
  "metadata": {
    "colab": {
      "provenance": [],
      "authorship_tag": "ABX9TyOZzXG3oTTIR5Nhn7ag2UO2",
      "include_colab_link": true
    },
    "kernelspec": {
      "name": "python3",
      "display_name": "Python 3"
    },
    "language_info": {
      "name": "python"
    }
  },
  "cells": [
    {
      "cell_type": "markdown",
      "metadata": {
        "id": "view-in-github",
        "colab_type": "text"
      },
      "source": [
        "<a href=\"https://colab.research.google.com/github/MCn21thCntry/Practical-Machine-Learning---from-the-rooter-to-the-tooter/blob/main/Intro_ML_Assignment1.ipynb\" target=\"_parent\"><img src=\"https://colab.research.google.com/assets/colab-badge.svg\" alt=\"Open In Colab\"/></a>"
      ]
    },
    {
      "cell_type": "markdown",
      "source": [
        "\n",
        "\n",
        "#```1.Working with Variables and Data Types:```\n"
      ],
      "metadata": {
        "id": "jgNdtesdaftv"
      }
    },
    {
      "cell_type": "code",
      "execution_count": 2,
      "metadata": {
        "colab": {
          "base_uri": "https://localhost:8080/"
        },
        "id": "T6BbBO_ZaIwL",
        "outputId": "587f7860-216f-4109-957e-23e6fc398b3a"
      },
      "outputs": [
        {
          "output_type": "stream",
          "name": "stdout",
          "text": [
            "Hello, my name is Ferdi and I am 19 years old.\n",
            "<class 'str'>\n",
            "<class 'int'>\n"
          ]
        }
      ],
      "source": [
        "# Create a variable named your_name and assign your name (as a string) to it.\n",
        "your_name = \"Ferdi\"\n",
        "# Create a variable named your_age and assign your age (as an integer) to it.\n",
        "your_age = 19\n",
        "# Print the following sentence using f-strings, including your variables: \"Hello, my name is [your name] and I am [your age] years old.\"\n",
        "print(f\"Hello, my name is {your_name} and I am {your_age} years old.\")\n",
        "# Check and print the data type of both your_name and your_age variables using the type() function.\n",
        "print(type(your_name))\n",
        "print(type(your_age))"
      ]
    },
    {
      "cell_type": "markdown",
      "source": [
        "# ```2.Simple Conditional Statement:```"
      ],
      "metadata": {
        "id": "ZK_bosv2ci2v"
      }
    },
    {
      "cell_type": "code",
      "source": [
        "# Write an if-else statement that checks if your_age (from the previous task) is greater than or equal to 18. If it is, print \"You are an adult.\"\n",
        "your_age = 20\n",
        "if your_age >= 18:\n",
        "    print(\"You are an adult.\")\n",
        "else:\n",
        "    print(\"You are not an adult.\")"
      ],
      "metadata": {
        "colab": {
          "base_uri": "https://localhost:8080/"
        },
        "id": "bUMGPynjdZic",
        "outputId": "34cabbbc-2c42-4326-c1a5-55e39d038140"
      },
      "execution_count": 3,
      "outputs": [
        {
          "output_type": "stream",
          "name": "stdout",
          "text": [
            "You are an adult.\n"
          ]
        }
      ]
    },
    {
      "cell_type": "markdown",
      "source": [
        "# ```3.Basic Loop:```"
      ],
      "metadata": {
        "id": "iRC-UAUuiBHA"
      }
    },
    {
      "cell_type": "code",
      "source": [
        "# Use a for loop to print the numbers from 1 to 5. Each number should be printed on a new line.\n",
        "for i in range(1, 6):\n",
        "    print(i)"
      ],
      "metadata": {
        "colab": {
          "base_uri": "https://localhost:8080/"
        },
        "id": "6k4GFRURabfo",
        "outputId": "ebb743c5-3054-496d-b5e7-9965c76798a9"
      },
      "execution_count": 4,
      "outputs": [
        {
          "output_type": "stream",
          "name": "stdout",
          "text": [
            "1\n",
            "2\n",
            "3\n",
            "4\n",
            "5\n"
          ]
        }
      ]
    },
    {
      "cell_type": "markdown",
      "source": [
        "# ```4.Creating a NumPy Array:```"
      ],
      "metadata": {
        "id": "TGZ2y9_yiRGy"
      }
    },
    {
      "cell_type": "code",
      "source": [
        "# Create a NumPy array named my_numpy_array from the following Python list: [5, 10, 15, 20, 25].\n",
        "import numpy as np\n",
        "my_numpy_array = np.array([5, 10, 15, 20, 25])\n",
        "print(my_numpy_array)\n",
        "# Print the data type of the elements in my_numpy_array using .dtype.\n",
        "print(my_numpy_array.dtype)"
      ],
      "metadata": {
        "colab": {
          "base_uri": "https://localhost:8080/"
        },
        "id": "6QhE_W3Dabq2",
        "outputId": "b6f3929e-adb1-4011-be2a-582f1e193379"
      },
      "execution_count": 5,
      "outputs": [
        {
          "output_type": "stream",
          "name": "stdout",
          "text": [
            "[ 5 10 15 20 25]\n",
            "int64\n"
          ]
        }
      ]
    },
    {
      "cell_type": "markdown",
      "source": [
        "# ```5.Basic NumPy Operation:```"
      ],
      "metadata": {
        "id": "bW9X7Z0giui4"
      }
    },
    {
      "cell_type": "code",
      "source": [
        "# Using the my_numpy_array you created in the previous task, multiply each element in the array by 2.\n",
        "my_numpy_array = my_numpy_array * 2\n",
        "print(my_numpy_array)"
      ],
      "metadata": {
        "colab": {
          "base_uri": "https://localhost:8080/"
        },
        "id": "f40bx10JiPm_",
        "outputId": "0ded925f-8a58-4c89-a460-1fa597eca020"
      },
      "execution_count": 6,
      "outputs": [
        {
          "output_type": "stream",
          "name": "stdout",
          "text": [
            "[10 20 30 40 50]\n"
          ]
        }
      ]
    },
    {
      "cell_type": "markdown",
      "source": [
        "# ```6.Creating a Pandas Series:```"
      ],
      "metadata": {
        "id": "XDYN8nf9jLCo"
      }
    },
    {
      "cell_type": "code",
      "source": [
        "# Create a Pandas Series named my_pandas_series from the following list of fruits: ['apple', 'banana', 'orange', 'grape'].\n",
        "import pandas as pd\n",
        "my_pandas_series = pd.Series(['apple', 'banana', 'orange', 'grape'])\n",
        "# Print the my_pandas_series.\n",
        "print(my_pandas_series)"
      ],
      "metadata": {
        "colab": {
          "base_uri": "https://localhost:8080/"
        },
        "id": "vUv_kYHxabuS",
        "outputId": "1965780d-b2eb-497b-94ec-31168295d945"
      },
      "execution_count": 7,
      "outputs": [
        {
          "output_type": "stream",
          "name": "stdout",
          "text": [
            "0     apple\n",
            "1    banana\n",
            "2    orange\n",
            "3     grape\n",
            "dtype: object\n"
          ]
        }
      ]
    },
    {
      "cell_type": "markdown",
      "source": [
        "# ```7.Creating a Pandas DataFrame and Viewing Data:```"
      ],
      "metadata": {
        "id": "_zPwlI-ejqWJ"
      }
    },
    {
      "cell_type": "code",
      "source": [
        "# Create a Pandas DataFrame named my_dataframe from the following dictionary:\n",
        "data = {'Name': ['StudentA', 'StudentB', 'StudentC'],\n",
        "        'Major': ['Engineering', 'Science', 'Arts']}\n",
        "my_dataframe = pd.DataFrame(data)\n",
        "# Print the first two rows of my_dataframe using .head().\n",
        "print(my_dataframe.head(2))"
      ],
      "metadata": {
        "colab": {
          "base_uri": "https://localhost:8080/"
        },
        "id": "4Mf9ZHMTjrZO",
        "outputId": "d6150e06-2cbd-46e3-d11e-3eb1c3956456"
      },
      "execution_count": 8,
      "outputs": [
        {
          "output_type": "stream",
          "name": "stdout",
          "text": [
            "       Name        Major\n",
            "0  StudentA  Engineering\n",
            "1  StudentB      Science\n"
          ]
        }
      ]
    },
    {
      "cell_type": "markdown",
      "source": [
        "# ```8.Explore .describe() in Pandas:```"
      ],
      "metadata": {
        "id": "5k4nK3r6kDH-"
      }
    },
    {
      "cell_type": "code",
      "source": [
        "# Create a Pandas DataFrame with a column named 'Numbers' containing the following values: [10, 20, 30, 40, 50, 50, 50]. Use the .describe() function on the 'Numbers' column to get summary statistics.\n",
        "data = {'Numbers': [10, 20, 30, 40, 50, 50, 50]}\n",
        "my_dataframe = pd.DataFrame(data)\n",
        "# Print the output of .describe()\n",
        "print(my_dataframe['Numbers'].describe())\n",
        "# count means the numbers of rows/observations inside the dataframe.\n",
        "# mean means the average of the values of a numeric column/feature\n",
        "# std means standard deviation of the values of a numeric column\n",
        "# min means the smallest value inside a numeric column\n",
        "# 25% means the value in the quarter position of a numeric feature\n",
        "# 25% means the value in the second quarter position of a numeric feature\n",
        "# 25% means the value in the third quarter position of a numeric feature\n",
        "# max means the biggest value inside a numeric column"
      ],
      "metadata": {
        "colab": {
          "base_uri": "https://localhost:8080/"
        },
        "id": "lRSwS8phjrcD",
        "outputId": "82a8dc8d-c8b1-4a3d-948f-a6b995ec5637"
      },
      "execution_count": 9,
      "outputs": [
        {
          "output_type": "stream",
          "name": "stdout",
          "text": [
            "count     7.000000\n",
            "mean     35.714286\n",
            "std      16.183472\n",
            "min      10.000000\n",
            "25%      25.000000\n",
            "50%      40.000000\n",
            "75%      50.000000\n",
            "max      50.000000\n",
            "Name: Numbers, dtype: float64\n"
          ]
        }
      ]
    }
  ]
}